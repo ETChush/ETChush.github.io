{
  "nbformat": 4,
  "nbformat_minor": 0,
  "metadata": {
    "colab": {
      "name": "“DeepFaceLab_Colab_V4.ipynb”的副本",
      "provenance": [],
      "collapsed_sections": [],
      "toc_visible": true,
      "include_colab_link": true
    },
    "kernelspec": {
      "name": "python3",
      "display_name": "Python 3"
    },
    "accelerator": "GPU"
  },
  "cells": [
    {
      "cell_type": "markdown",
      "metadata": {
        "id": "view-in-github",
        "colab_type": "text"
      },
      "source": [
        "<a href=\"https://colab.research.google.com/github/ETChush/ETChush.github.io/blob/master/%E2%80%9CDeepFaceLab_Colab_V4_ipynb%E2%80%9D%E7%9A%84%E5%89%AF%E6%9C%AC.ipynb\" target=\"_parent\"><img src=\"https://colab.research.google.com/assets/colab-badge.svg\" alt=\"Open In Colab\"/></a>"
      ]
    },
    {
      "cell_type": "markdown",
      "metadata": {
        "id": "KWQMLYlFrTXz"
      },
      "source": [
        "# 简介\n",
        "\n",
        "无需多说，一路运行即可！\n",
        "\n",
        "此脚本由**[托尼是塔克](https://wxp123.me)**创建，仅用于学习，请勿滥用。如有疑问，拉到最后！"
      ]
    },
    {
      "cell_type": "code",
      "metadata": {
        "id": "AmGMbWZef1XI",
        "colab": {
          "base_uri": "https://localhost:8080/"
        },
        "outputId": "d8d52dad-8d03-4810-d518-75c871baefe2"
      },
      "source": [
        "#@title 查看分配到的设备\n",
        "# 查看设备，是K80还是T4,如果是K80...！\n",
        "! /opt/bin/nvidia-smi"
      ],
      "execution_count": null,
      "outputs": [
        {
          "output_type": "stream",
          "text": [
            "Sun Apr 11 03:47:38 2021       \n",
            "+-----------------------------------------------------------------------------+\n",
            "| NVIDIA-SMI 460.32.03    Driver Version: 460.32.03    CUDA Version: 11.2     |\n",
            "|-------------------------------+----------------------+----------------------+\n",
            "| GPU  Name        Persistence-M| Bus-Id        Disp.A | Volatile Uncorr. ECC |\n",
            "| Fan  Temp  Perf  Pwr:Usage/Cap|         Memory-Usage | GPU-Util  Compute M. |\n",
            "|                               |                      |               MIG M. |\n",
            "|===============================+======================+======================|\n",
            "|   0  Tesla P100-PCIE...  Off  | 00000000:00:04.0 Off |                    0 |\n",
            "| N/A   34C    P0    27W / 250W |      0MiB / 16280MiB |      0%      Default |\n",
            "|                               |                      |                  N/A |\n",
            "+-------------------------------+----------------------+----------------------+\n",
            "                                                                               \n",
            "+-----------------------------------------------------------------------------+\n",
            "| Processes:                                                                  |\n",
            "|  GPU   GI   CI        PID   Type   Process name                  GPU Memory |\n",
            "|        ID   ID                                                   Usage      |\n",
            "|=============================================================================|\n",
            "|  No running processes found                                                 |\n",
            "+-----------------------------------------------------------------------------+\n"
          ],
          "name": "stdout"
        }
      ]
    },
    {
      "cell_type": "markdown",
      "metadata": {
        "id": "ldpC3PjRrYYh"
      },
      "source": [
        "# 第一步 准备好workspace\n",
        "这一步你可以选着两种方式\n",
        "1. 使用默认的workspace，你无需自己上传，仅用于熟悉操作。\n",
        "2. 通过Google Drive （谷歌云盘）上传自己的workspace到指定目录。\n",
        "\n",
        "\n",
        "\n",
        "谷歌云盘地址：https://drive.google.com/drive/my-drive  \n",
        "注意：谷歌网址现在都需要“科学上网”才能访问。  "
      ]
    },
    {
      "cell_type": "code",
      "metadata": {
        "id": "D7toZxhT4J9W",
        "cellView": "form",
        "colab": {
          "base_uri": "https://localhost:8080/"
        },
        "outputId": "3fbc7928-03ed-4f2e-f7fb-410a933b846d"
      },
      "source": [
        "#@title 开始挂载 \n",
        "#挂载谷歌云盘\n",
        "#点击链接授权，复制授权码，填入框框，然后回车。\n",
        "\n",
        "from google.colab import drive\n",
        "drive.mount('/content/drive', force_remount=True)\n",
        "\n",
        "#创建DeepFaceLab目录，并且进入目录\n",
        "%cd /content/drive/My Drive/\n",
        "!mkdir DeepFaceLab\n",
        "%cd /content/drive/My Drive/DeepFaceLab/\n"
      ],
      "execution_count": null,
      "outputs": [
        {
          "output_type": "stream",
          "text": [
            "Mounted at /content/drive\n",
            "/content/drive/My Drive\n",
            "mkdir: cannot create directory ‘DeepFaceLab’: File exists\n",
            "/content/drive/My Drive/DeepFaceLab\n"
          ],
          "name": "stdout"
        }
      ]
    },
    {
      "cell_type": "markdown",
      "metadata": {
        "id": "_nyimmWVKk8V"
      },
      "source": [
        "这一环节有两个选择：  \n",
        "如果你第一次使用，可以加载示例项目，然后往后运行。  \n",
        "如果你是二次运行，就不需要加载了。  \n",
        "如果你希望上传本地素材，可以先用pack脚本把素材打包成faceset.pak到aligned目录，无须解压，可直接进行训练和转换，加载速度会很快。\n"
      ]
    },
    {
      "cell_type": "code",
      "metadata": {
        "id": "cNsq0I98KvHl",
        "cellView": "form",
        "colab": {
          "base_uri": "https://localhost:8080/"
        },
        "outputId": "03443ab0-3d7c-48f6-ceae-6d6c4b1b7eea"
      },
      "source": [
        "#@title 加载示例项目workspace \n",
        "# 1. 练手可以使用这一行，直接git clone一个workspace\n",
        "%cd /content/drive/My Drive/DeepFaceLab/\n",
        "!rm -rf workspace\n",
        "!git clone https://github.com/dream80/DFLWorkspace.git workspace"
      ],
      "execution_count": null,
      "outputs": [
        {
          "output_type": "stream",
          "text": [
            "[Errno 2] No such file or directory: '/content/drive/My Drive/DeepFaceLab/'\n",
            "/content\n",
            "Cloning into 'workspace'...\n",
            "remote: Enumerating objects: 4, done.\u001b[K\n",
            "remote: Counting objects: 100% (4/4), done.\u001b[K\n",
            "remote: Compressing objects: 100% (4/4), done.\u001b[K\n",
            "remote: Total 39 (delta 0), reused 2 (delta 0), pack-reused 35\u001b[K\n",
            "Unpacking objects: 100% (39/39), done.\n"
          ],
          "name": "stdout"
        }
      ]
    },
    {
      "cell_type": "markdown",
      "metadata": {
        "id": "yA4nziLPtAf9"
      },
      "source": [
        "#第二步 安装DeepFaceLab\n",
        "获取源代码，安装依赖,根据自己的情况选择版本  \n",
        "\n",
        "last:最新版  "
      ]
    },
    {
      "cell_type": "code",
      "metadata": {
        "id": "4CbWbLzHzqTQ",
        "cellView": "form",
        "colab": {
          "base_uri": "https://localhost:8080/",
          "height": 1000
        },
        "outputId": "468f4b2f-813d-4a4d-8687-240da79b5ee0"
      },
      "source": [
        "#@title 开始安装\n",
        "\n",
        "Version = \"v2.06.01\" #@param [\"v2.02.03\", \"v2.02.23b\", \"v2.02.28\",\"v2.03.07\",\"v2.03.15\",\"v2.06.01\",\"v2.06.19\",\"last\"]\n",
        "%cd /content/drive/My Drive/DeepFaceLab\n",
        "!rm -fr DeepFaceLab_Colab\n",
        "!pip uninstall -y tensorflow\n",
        "if Version==\"620\":\n",
        "  print(\"620版加载中....\")\n",
        "  # 获取DFL源代码v1.6.1稳定版\n",
        "  !git clone -b v1.6.1 https://github.com/dream80/DeepFaceLab_Colab.git\n",
        "  %cd /content/drive/My Drive/DeepFaceLab/DeepFaceLab_Colab\n",
        "  !pip install -r requirements-colab.txt  \n",
        "elif Version==\"last\":\n",
        "  print(\"最新版加载中....\")\n",
        "  !git clone https://github.com/iperov/DeepFaceLab.git  DeepFaceLab_Colab\n",
        "  %cd /content/drive/My Drive/DeepFaceLab/DeepFaceLab_Colab\n",
        "  !pip install -r requirements-colab.txt\n",
        "else:\n",
        "  print(Version+\"加载中....\")\n",
        "  cmd=\"clone -b \"+Version+\" https://github.com/dream80/DeepFaceLab_Colab.git\"  \n",
        "  !git $cmd\n",
        "  %cd /content/drive/My Drive/DeepFaceLab/DeepFaceLab_Colab\n",
        "  !pip install -r requirements-colab.txt\n",
        "\n",
        "!pip install --upgrade scikit-image\n",
        "!sudo apt-get install cuda-10-0\n"
      ],
      "execution_count": null,
      "outputs": [
        {
          "output_type": "stream",
          "text": [
            "/content/drive/My Drive/DeepFaceLab\n",
            "Uninstalling tensorflow-2.4.1:\n",
            "  Successfully uninstalled tensorflow-2.4.1\n",
            "v2.06.01加载中....\n",
            "Cloning into 'DeepFaceLab_Colab'...\n",
            "remote: Enumerating objects: 3962, done.\u001b[K\n",
            "remote: Total 3962 (delta 0), reused 0 (delta 0), pack-reused 3962\u001b[K\n",
            "Receiving objects: 100% (3962/3962), 784.61 MiB | 21.72 MiB/s, done.\n",
            "Resolving deltas: 100% (2516/2516), done.\n",
            "Note: checking out '61d6a37d6318dfb781026b39cefa31c1ab73600d'.\n",
            "\n",
            "You are in 'detached HEAD' state. You can look around, make experimental\n",
            "changes and commit them, and you can discard any commits you make in this\n",
            "state without impacting any branches by performing another checkout.\n",
            "\n",
            "If you want to create a new branch to retain commits you create, you may\n",
            "do so (now or later) by using -b with the checkout command again. Example:\n",
            "\n",
            "  git checkout -b <new-branch-name>\n",
            "\n",
            "Checking out files: 100% (433/433), done.\n",
            "/content/drive/My Drive/DeepFaceLab/DeepFaceLab_Colab\n",
            "Requirement already satisfied: tqdm in /usr/local/lib/python3.7/dist-packages (from -r requirements-colab.txt (line 1)) (4.41.1)\n",
            "Collecting numpy==1.17.0\n",
            "\u001b[?25l  Downloading https://files.pythonhosted.org/packages/05/4b/55cfbfd3e5e85016eeef9f21c0ec809d978706a0d60b62cc28aeec8c792f/numpy-1.17.0-cp37-cp37m-manylinux1_x86_64.whl (20.3MB)\n",
            "\u001b[K     |████████████████████████████████| 20.3MB 1.5MB/s \n",
            "\u001b[?25hCollecting h5py==2.9.0\n",
            "\u001b[?25l  Downloading https://files.pythonhosted.org/packages/8e/fd/2ca5c4f4ed33ac4178f9c4d551e3946ab480866e3cd67a65a67a4bb35367/h5py-2.9.0-cp37-cp37m-manylinux1_x86_64.whl (2.8MB)\n",
            "\u001b[K     |████████████████████████████████| 2.8MB 42.2MB/s \n",
            "\u001b[?25hCollecting opencv-python==4.1.0.25\n",
            "\u001b[?25l  Downloading https://files.pythonhosted.org/packages/de/52/61b9619a7a95a8d809515f68f1441224a07ce1873fd3af5e662851014a55/opencv_python-4.1.0.25-cp37-cp37m-manylinux1_x86_64.whl (26.6MB)\n",
            "\u001b[K     |████████████████████████████████| 26.6MB 1.6MB/s \n",
            "\u001b[?25hCollecting ffmpeg-python==0.1.17\n",
            "  Downloading https://files.pythonhosted.org/packages/3d/10/330cbc8e63d072d40413f4d470444a6a1e8c8c6a80b2a4ac302d1252ca1b/ffmpeg_python-0.1.17-py3-none-any.whl\n",
            "Collecting scikit-image==0.14.2\n",
            "\u001b[?25l  Downloading https://files.pythonhosted.org/packages/b7/66/a7f7649e5abf9cf1a908134fe6b52f8c5bb4e4059e47dd497bd173a951c6/scikit_image-0.14.2-cp37-cp37m-manylinux1_x86_64.whl (25.3MB)\n",
            "\u001b[K     |████████████████████████████████| 25.3MB 1.4MB/s \n",
            "\u001b[?25hRequirement already satisfied: scipy==1.4.1 in /usr/local/lib/python3.7/dist-packages (from -r requirements-colab.txt (line 7)) (1.4.1)\n",
            "Collecting colorama\n",
            "  Downloading https://files.pythonhosted.org/packages/44/98/5b86278fbbf250d239ae0ecb724f8572af1c91f4a11edf4d36a206189440/colorama-0.4.4-py2.py3-none-any.whl\n",
            "Collecting tensorflow-gpu==1.13.2\n",
            "\u001b[?25l  Downloading https://files.pythonhosted.org/packages/11/ac/0ffca13d748987245f656152557ac007cac5708ca77d0ea18785b558cd9a/tensorflow_gpu-1.13.2-cp37-cp37m-manylinux1_x86_64.whl (345.0MB)\n",
            "\u001b[K     |████████████████████████████████| 345.0MB 44kB/s \n",
            "\u001b[?25hRequirement already satisfied: six in /usr/local/lib/python3.7/dist-packages (from h5py==2.9.0->-r requirements-colab.txt (line 3)) (1.15.0)\n",
            "Requirement already satisfied: future in /usr/local/lib/python3.7/dist-packages (from ffmpeg-python==0.1.17->-r requirements-colab.txt (line 5)) (0.16.0)\n",
            "Requirement already satisfied: dask[array]>=1.0.0 in /usr/local/lib/python3.7/dist-packages (from scikit-image==0.14.2->-r requirements-colab.txt (line 6)) (2.12.0)\n",
            "Requirement already satisfied: networkx>=1.8 in /usr/local/lib/python3.7/dist-packages (from scikit-image==0.14.2->-r requirements-colab.txt (line 6)) (2.5)\n",
            "Requirement already satisfied: pillow>=4.3.0 in /usr/local/lib/python3.7/dist-packages (from scikit-image==0.14.2->-r requirements-colab.txt (line 6)) (7.1.2)\n",
            "Requirement already satisfied: cloudpickle>=0.2.1 in /usr/local/lib/python3.7/dist-packages (from scikit-image==0.14.2->-r requirements-colab.txt (line 6)) (1.3.0)\n",
            "Requirement already satisfied: matplotlib>=2.0.0 in /usr/local/lib/python3.7/dist-packages (from scikit-image==0.14.2->-r requirements-colab.txt (line 6)) (3.2.2)\n",
            "Requirement already satisfied: PyWavelets>=0.4.0 in /usr/local/lib/python3.7/dist-packages (from scikit-image==0.14.2->-r requirements-colab.txt (line 6)) (1.1.1)\n",
            "Collecting tensorflow-estimator<1.14.0rc0,>=1.13.0\n",
            "\u001b[?25l  Downloading https://files.pythonhosted.org/packages/bb/48/13f49fc3fa0fdf916aa1419013bb8f2ad09674c275b4046d5ee669a46873/tensorflow_estimator-1.13.0-py2.py3-none-any.whl (367kB)\n",
            "\u001b[K     |████████████████████████████████| 368kB 48.3MB/s \n",
            "\u001b[?25hRequirement already satisfied: grpcio>=1.8.6 in /usr/local/lib/python3.7/dist-packages (from tensorflow-gpu==1.13.2->-r requirements-colab.txt (line 9)) (1.32.0)\n",
            "Requirement already satisfied: keras-preprocessing>=1.0.5 in /usr/local/lib/python3.7/dist-packages (from tensorflow-gpu==1.13.2->-r requirements-colab.txt (line 9)) (1.1.2)\n",
            "Requirement already satisfied: absl-py>=0.1.6 in /usr/local/lib/python3.7/dist-packages (from tensorflow-gpu==1.13.2->-r requirements-colab.txt (line 9)) (0.12.0)\n",
            "Collecting tensorboard<1.14.0,>=1.13.0\n",
            "\u001b[?25l  Downloading https://files.pythonhosted.org/packages/0f/39/bdd75b08a6fba41f098b6cb091b9e8c7a80e1b4d679a581a0ccd17b10373/tensorboard-1.13.1-py3-none-any.whl (3.2MB)\n",
            "\u001b[K     |████████████████████████████████| 3.2MB 35.7MB/s \n",
            "\u001b[?25hRequirement already satisfied: wheel>=0.26 in /usr/local/lib/python3.7/dist-packages (from tensorflow-gpu==1.13.2->-r requirements-colab.txt (line 9)) (0.36.2)\n",
            "Requirement already satisfied: termcolor>=1.1.0 in /usr/local/lib/python3.7/dist-packages (from tensorflow-gpu==1.13.2->-r requirements-colab.txt (line 9)) (1.1.0)\n",
            "Requirement already satisfied: protobuf>=3.6.1 in /usr/local/lib/python3.7/dist-packages (from tensorflow-gpu==1.13.2->-r requirements-colab.txt (line 9)) (3.12.4)\n",
            "Requirement already satisfied: astor>=0.6.0 in /usr/local/lib/python3.7/dist-packages (from tensorflow-gpu==1.13.2->-r requirements-colab.txt (line 9)) (0.8.1)\n",
            "Collecting keras-applications>=1.0.6\n",
            "\u001b[?25l  Downloading https://files.pythonhosted.org/packages/71/e3/19762fdfc62877ae9102edf6342d71b28fbfd9dea3d2f96a882ce099b03f/Keras_Applications-1.0.8-py3-none-any.whl (50kB)\n",
            "\u001b[K     |████████████████████████████████| 51kB 7.3MB/s \n",
            "\u001b[?25hRequirement already satisfied: gast>=0.2.0 in /usr/local/lib/python3.7/dist-packages (from tensorflow-gpu==1.13.2->-r requirements-colab.txt (line 9)) (0.3.3)\n",
            "Requirement already satisfied: toolz>=0.7.3; extra == \"array\" in /usr/local/lib/python3.7/dist-packages (from dask[array]>=1.0.0->scikit-image==0.14.2->-r requirements-colab.txt (line 6)) (0.11.1)\n",
            "Requirement already satisfied: decorator>=4.3.0 in /usr/local/lib/python3.7/dist-packages (from networkx>=1.8->scikit-image==0.14.2->-r requirements-colab.txt (line 6)) (4.4.2)\n",
            "Requirement already satisfied: cycler>=0.10 in /usr/local/lib/python3.7/dist-packages (from matplotlib>=2.0.0->scikit-image==0.14.2->-r requirements-colab.txt (line 6)) (0.10.0)\n",
            "Requirement already satisfied: python-dateutil>=2.1 in /usr/local/lib/python3.7/dist-packages (from matplotlib>=2.0.0->scikit-image==0.14.2->-r requirements-colab.txt (line 6)) (2.8.1)\n",
            "Requirement already satisfied: kiwisolver>=1.0.1 in /usr/local/lib/python3.7/dist-packages (from matplotlib>=2.0.0->scikit-image==0.14.2->-r requirements-colab.txt (line 6)) (1.3.1)\n",
            "Requirement already satisfied: pyparsing!=2.0.4,!=2.1.2,!=2.1.6,>=2.0.1 in /usr/local/lib/python3.7/dist-packages (from matplotlib>=2.0.0->scikit-image==0.14.2->-r requirements-colab.txt (line 6)) (2.4.7)\n",
            "Collecting mock>=2.0.0\n",
            "  Downloading https://files.pythonhosted.org/packages/5c/03/b7e605db4a57c0f6fba744b11ef3ddf4ddebcada35022927a2b5fc623fdf/mock-4.0.3-py3-none-any.whl\n",
            "Requirement already satisfied: markdown>=2.6.8 in /usr/local/lib/python3.7/dist-packages (from tensorboard<1.14.0,>=1.13.0->tensorflow-gpu==1.13.2->-r requirements-colab.txt (line 9)) (3.3.4)\n",
            "Requirement already satisfied: werkzeug>=0.11.15 in /usr/local/lib/python3.7/dist-packages (from tensorboard<1.14.0,>=1.13.0->tensorflow-gpu==1.13.2->-r requirements-colab.txt (line 9)) (1.0.1)\n",
            "Requirement already satisfied: setuptools in /usr/local/lib/python3.7/dist-packages (from protobuf>=3.6.1->tensorflow-gpu==1.13.2->-r requirements-colab.txt (line 9)) (54.2.0)\n",
            "Requirement already satisfied: importlib-metadata; python_version < \"3.8\" in /usr/local/lib/python3.7/dist-packages (from markdown>=2.6.8->tensorboard<1.14.0,>=1.13.0->tensorflow-gpu==1.13.2->-r requirements-colab.txt (line 9)) (3.8.1)\n",
            "Requirement already satisfied: zipp>=0.5 in /usr/local/lib/python3.7/dist-packages (from importlib-metadata; python_version < \"3.8\"->markdown>=2.6.8->tensorboard<1.14.0,>=1.13.0->tensorflow-gpu==1.13.2->-r requirements-colab.txt (line 9)) (3.4.1)\n",
            "Requirement already satisfied: typing-extensions>=3.6.4; python_version < \"3.8\" in /usr/local/lib/python3.7/dist-packages (from importlib-metadata; python_version < \"3.8\"->markdown>=2.6.8->tensorboard<1.14.0,>=1.13.0->tensorflow-gpu==1.13.2->-r requirements-colab.txt (line 9)) (3.7.4.3)\n",
            "\u001b[31mERROR: fancyimpute 0.4.3 requires tensorflow, which is not installed.\u001b[0m\n",
            "\u001b[31mERROR: datascience 0.10.6 has requirement folium==0.2.1, but you'll have folium 0.8.3 which is incompatible.\u001b[0m\n",
            "\u001b[31mERROR: albumentations 0.1.12 has requirement imgaug<0.2.7,>=0.2.5, but you'll have imgaug 0.2.9 which is incompatible.\u001b[0m\n",
            "Installing collected packages: numpy, h5py, opencv-python, ffmpeg-python, scikit-image, colorama, mock, tensorflow-estimator, tensorboard, keras-applications, tensorflow-gpu\n",
            "  Found existing installation: numpy 1.19.5\n",
            "    Uninstalling numpy-1.19.5:\n",
            "      Successfully uninstalled numpy-1.19.5\n",
            "  Found existing installation: h5py 2.10.0\n",
            "    Uninstalling h5py-2.10.0:\n",
            "      Successfully uninstalled h5py-2.10.0\n",
            "  Found existing installation: opencv-python 4.1.2.30\n",
            "    Uninstalling opencv-python-4.1.2.30:\n",
            "      Successfully uninstalled opencv-python-4.1.2.30\n",
            "  Found existing installation: scikit-image 0.16.2\n",
            "    Uninstalling scikit-image-0.16.2:\n",
            "      Successfully uninstalled scikit-image-0.16.2\n",
            "  Found existing installation: tensorflow-estimator 2.4.0\n",
            "    Uninstalling tensorflow-estimator-2.4.0:\n",
            "      Successfully uninstalled tensorflow-estimator-2.4.0\n",
            "  Found existing installation: tensorboard 2.4.1\n",
            "    Uninstalling tensorboard-2.4.1:\n",
            "      Successfully uninstalled tensorboard-2.4.1\n",
            "Successfully installed colorama-0.4.4 ffmpeg-python-0.1.17 h5py-2.9.0 keras-applications-1.0.8 mock-4.0.3 numpy-1.17.0 opencv-python-4.1.0.25 scikit-image-0.14.2 tensorboard-1.13.1 tensorflow-estimator-1.13.0 tensorflow-gpu-1.13.2\n"
          ],
          "name": "stdout"
        },
        {
          "output_type": "display_data",
          "data": {
            "application/vnd.colab-display-data+json": {
              "pip_warning": {
                "packages": [
                  "numpy"
                ]
              }
            }
          },
          "metadata": {
            "tags": []
          }
        },
        {
          "output_type": "stream",
          "text": [
            "Collecting scikit-image\n",
            "\u001b[?25l  Downloading https://files.pythonhosted.org/packages/fe/01/3a830f3df578ea3ed94ee7fd9f91e85c3dec2431d8548ab1c91869e51450/scikit_image-0.18.1-cp37-cp37m-manylinux1_x86_64.whl (29.2MB)\n",
            "\u001b[K     |████████████████████████████████| 29.2MB 176kB/s \n",
            "\u001b[?25hRequirement already satisfied, skipping upgrade: networkx>=2.0 in /usr/local/lib/python3.7/dist-packages (from scikit-image) (2.5)\n",
            "Requirement already satisfied, skipping upgrade: scipy>=1.0.1 in /usr/local/lib/python3.7/dist-packages (from scikit-image) (1.4.1)\n",
            "Requirement already satisfied, skipping upgrade: matplotlib!=3.0.0,>=2.0.0 in /usr/local/lib/python3.7/dist-packages (from scikit-image) (3.2.2)\n",
            "Requirement already satisfied, skipping upgrade: PyWavelets>=1.1.1 in /usr/local/lib/python3.7/dist-packages (from scikit-image) (1.1.1)\n",
            "Requirement already satisfied, skipping upgrade: imageio>=2.3.0 in /usr/local/lib/python3.7/dist-packages (from scikit-image) (2.4.1)\n",
            "Requirement already satisfied, skipping upgrade: numpy>=1.16.5 in /usr/local/lib/python3.7/dist-packages (from scikit-image) (1.17.0)\n",
            "Requirement already satisfied, skipping upgrade: tifffile>=2019.7.26 in /usr/local/lib/python3.7/dist-packages (from scikit-image) (2021.3.17)\n",
            "Requirement already satisfied, skipping upgrade: pillow!=7.1.0,!=7.1.1,>=4.3.0 in /usr/local/lib/python3.7/dist-packages (from scikit-image) (7.1.2)\n",
            "Requirement already satisfied, skipping upgrade: decorator>=4.3.0 in /usr/local/lib/python3.7/dist-packages (from networkx>=2.0->scikit-image) (4.4.2)\n",
            "Requirement already satisfied, skipping upgrade: cycler>=0.10 in /usr/local/lib/python3.7/dist-packages (from matplotlib!=3.0.0,>=2.0.0->scikit-image) (0.10.0)\n",
            "Requirement already satisfied, skipping upgrade: python-dateutil>=2.1 in /usr/local/lib/python3.7/dist-packages (from matplotlib!=3.0.0,>=2.0.0->scikit-image) (2.8.1)\n",
            "Requirement already satisfied, skipping upgrade: pyparsing!=2.0.4,!=2.1.2,!=2.1.6,>=2.0.1 in /usr/local/lib/python3.7/dist-packages (from matplotlib!=3.0.0,>=2.0.0->scikit-image) (2.4.7)\n",
            "Requirement already satisfied, skipping upgrade: kiwisolver>=1.0.1 in /usr/local/lib/python3.7/dist-packages (from matplotlib!=3.0.0,>=2.0.0->scikit-image) (1.3.1)\n",
            "Requirement already satisfied, skipping upgrade: six in /usr/local/lib/python3.7/dist-packages (from cycler>=0.10->matplotlib!=3.0.0,>=2.0.0->scikit-image) (1.15.0)\n",
            "\u001b[31mERROR: albumentations 0.1.12 has requirement imgaug<0.2.7,>=0.2.5, but you'll have imgaug 0.2.9 which is incompatible.\u001b[0m\n",
            "Installing collected packages: scikit-image\n",
            "  Found existing installation: scikit-image 0.14.2\n",
            "    Uninstalling scikit-image-0.14.2:\n",
            "      Successfully uninstalled scikit-image-0.14.2\n",
            "Successfully installed scikit-image-0.18.1\n",
            "Reading package lists... Done\n",
            "Building dependency tree       \n",
            "Reading state information... Done\n",
            "cuda-10-0 is already the newest version (10.0.130-1).\n",
            "0 upgraded, 0 newly installed, 0 to remove and 30 not upgraded.\n"
          ],
          "name": "stdout"
        }
      ]
    },
    {
      "cell_type": "markdown",
      "metadata": {
        "id": "9G9s5gJrty-x"
      },
      "source": [
        "# 第三步. 提取脸部"
      ]
    },
    {
      "cell_type": "markdown",
      "metadata": {
        "id": "llMCZb-uMuD1"
      },
      "source": [
        "这个步骤其实是分两次的。第一次选src，第二次选dst，很多对Deepfacelab不了解的人可能只点了一个，后面就会报错了。  \n",
        "  \n",
        "这一步，其实有三个小步骤，分解视频，提取人脸，打包素材。 如果有需要可以将他们拆分开来。一般是不用这么做的。 \n",
        "\n",
        "\n",
        "\n"
      ]
    },
    {
      "cell_type": "markdown",
      "metadata": {
        "id": "6flnCGqpIeen"
      },
      "source": [
        ""
      ]
    },
    {
      "cell_type": "code",
      "metadata": {
        "id": "YnhZyEERAW_D",
        "cellView": "form",
        "colab": {
          "base_uri": "https://localhost:8080/"
        },
        "outputId": "e3cabe11-f72a-4d6f-aab0-781b94a6445d"
      },
      "source": [
        "#@title 开始提取\n",
        "target = \"dst\" #@param [\"src\",\"dst\"]\n",
        "%cd /content/drive/My Drive/DeepFaceLab/DeepFaceLab_Colab\n",
        "if target==\"src\":\n",
        "  !python main.py videoed extract-video --input-file ../workspace/data_src.mp4 --output-dir ../workspace/data_src/\n",
        "  !python main.py extract --input-dir ../workspace/data_src --output-dir ../workspace/data_src/aligned --detector s3fd\n",
        "  !python main.py util --input-dir ../workspace/data_src/aligned  --pack-faceset\n",
        "else:\n",
        "  !python main.py videoed extract-video --input-file ../workspace/data_dst.mp4 --output-dir ../workspace/data_dst/\n",
        "  !python main.py extract --input-dir ../workspace/data_dst --output-dir ../workspace/data_dst/aligned --detector s3fd --output-debug\n",
        "  !python main.py util --input-dir ../workspace/data_dst/aligned  --pack-faceset\n"
      ],
      "execution_count": null,
      "outputs": [
        {
          "output_type": "stream",
          "text": [
            "/content/drive/My Drive/DeepFaceLab/DeepFaceLab_Colab\n",
            "[0] Enter FPS ( ?:help ) : \n",
            "0\n",
            "[png] Output image format ( png/jpg ?:help ) : j'p'g\n",
            "[png] Output image format ( png/jpg ?:help ) : jpg\n",
            "jpg\n",
            "ffmpeg version 3.4.8-0ubuntu0.2 Copyright (c) 2000-2020 the FFmpeg developers\n",
            "  built with gcc 7 (Ubuntu 7.5.0-3ubuntu1~18.04)\n",
            "  configuration: --prefix=/usr --extra-version=0ubuntu0.2 --toolchain=hardened --libdir=/usr/lib/x86_64-linux-gnu --incdir=/usr/include/x86_64-linux-gnu --enable-gpl --disable-stripping --enable-avresample --enable-avisynth --enable-gnutls --enable-ladspa --enable-libass --enable-libbluray --enable-libbs2b --enable-libcaca --enable-libcdio --enable-libflite --enable-libfontconfig --enable-libfreetype --enable-libfribidi --enable-libgme --enable-libgsm --enable-libmp3lame --enable-libmysofa --enable-libopenjpeg --enable-libopenmpt --enable-libopus --enable-libpulse --enable-librubberband --enable-librsvg --enable-libshine --enable-libsnappy --enable-libsoxr --enable-libspeex --enable-libssh --enable-libtheora --enable-libtwolame --enable-libvorbis --enable-libvpx --enable-libwavpack --enable-libwebp --enable-libx265 --enable-libxml2 --enable-libxvid --enable-libzmq --enable-libzvbi --enable-omx --enable-openal --enable-opengl --enable-sdl2 --enable-libdc1394 --enable-libdrm --enable-libiec61883 --enable-chromaprint --enable-frei0r --enable-libopencv --enable-libx264 --enable-shared\n",
            "  libavutil      55. 78.100 / 55. 78.100\n",
            "  libavcodec     57.107.100 / 57.107.100\n",
            "  libavformat    57. 83.100 / 57. 83.100\n",
            "  libavdevice    57. 10.100 / 57. 10.100\n",
            "  libavfilter     6.107.100 /  6.107.100\n",
            "  libavresample   3.  7.  0 /  3.  7.  0\n",
            "  libswscale      4.  8.100 /  4.  8.100\n",
            "  libswresample   2.  9.100 /  2.  9.100\n",
            "  libpostproc    54.  7.100 / 54.  7.100\n",
            "Input #0, mov,mp4,m4a,3gp,3g2,mj2, from '/content/drive/My Drive/DeepFaceLab/workspace/data_dst.mp4':\n",
            "  Metadata:\n",
            "    major_brand     : isom\n",
            "    minor_version   : 512\n",
            "    compatible_brands: isomiso2avc1mp41\n",
            "    encoder         : Lavf58.45.100\n",
            "    description     : Packed by Bilibili XCoder v2.0.2\n",
            "  Duration: 00:00:33.47, start: 0.000000, bitrate: 1869 kb/s\n",
            "    Stream #0:0(und): Video: h264 (High) (avc1 / 0x31637661), yuv420p(tv, bt709), 720x1280 [SAR 1:1 DAR 9:16], 1732 kb/s, 30 fps, 30 tbr, 16k tbn, 60 tbc (default)\n",
            "    Metadata:\n",
            "      handler_name    : VideoHandler\n",
            "    Stream #0:1(und): Audio: aac (LC) (mp4a / 0x6134706D), 48000 Hz, stereo, fltp, 128 kb/s (default)\n",
            "    Metadata:\n",
            "      handler_name    : SoundHandler\n",
            "Stream mapping:\n",
            "  Stream #0:0 -> #0:0 (h264 (native) -> mjpeg (native))\n",
            "Press [q] to stop, [?] for help\n",
            "\u001b[0;33mIncompatible pixel format 'rgb24' for codec 'mjpeg', auto-selecting format 'yuvj444p'\n",
            "\u001b[0m\u001b[1;34m[swscaler @ 0x5639cd490000] \u001b[0m\u001b[0;33mdeprecated pixel format used, make sure you did set range correctly\n",
            "\u001b[0mOutput #0, image2, to '/content/drive/My Drive/DeepFaceLab/workspace/data_dst/%5d.jpg':\n",
            "  Metadata:\n",
            "    major_brand     : isom\n",
            "    minor_version   : 512\n",
            "    compatible_brands: isomiso2avc1mp41\n",
            "    description     : Packed by Bilibili XCoder v2.0.2\n",
            "    encoder         : Lavf57.83.100\n",
            "    Stream #0:0(und): Video: mjpeg, yuvj444p(pc), 720x1280 [SAR 1:1 DAR 9:16], q=2-31, 200 kb/s, 30 fps, 30 tbn, 30 tbc (default)\n",
            "    Metadata:\n",
            "      handler_name    : VideoHandler\n",
            "      encoder         : Lavc57.107.100 mjpeg\n",
            "    Side data:\n",
            "      cpb: bitrate max/min/avg: 0/0/200000 buffer size: 0 vbv_delay: -1\n",
            "frame= 1003 fps= 54 q=2.0 Lsize=N/A time=00:00:33.43 bitrate=N/A speed=1.78x    \n",
            "video:118725kB audio:0kB subtitle:0kB other streams:0kB global headers:0kB muxing overhead: unknown\n",
            "Done.\n",
            "[wf] Face type ( f/wf/head ?:help ) : wf\n",
            "Traceback (most recent call last):\n",
            "  File \"main.py\", line 318, in <module>\n",
            "    arguments.func(arguments)\n",
            "  File \"main.py\", line 42, in process_extract\n",
            "    force_gpu_idxs          = [ int(x) for x in arguments.force_gpu_idxs.split(',') ] if arguments.force_gpu_idxs is not None else None,\n",
            "  File \"/content/drive/My Drive/DeepFaceLab/DeepFaceLab_Colab/mainscripts/Extractor.py\", line 710, in main\n",
            "    face_type = io.input_str (\"Face type\", 'wf', ['f','wf','head'], help_message=\"Full face / whole face / head. 'Whole face' covers full area of face include forehead. 'head' covers full head, but requires XSeg for src and dst faceset.\").lower()\n",
            "  File \"/content/drive/My Drive/DeepFaceLab/DeepFaceLab_Colab/core/interact/interact.py\", line 375, in input_str\n",
            "    print(result)\n",
            "KeyboardInterrupt\n",
            "Performing faceset packing...\n",
            "\n",
            "/content/drive/My Drive/DeepFaceLab/workspace/data_dst/aligned/faceset.pak : file already exists !\n",
            "Press enter to continue and overwrite."
          ],
          "name": "stdout"
        }
      ]
    },
    {
      "cell_type": "code",
      "metadata": {
        "id": "5MrM8JfIFiy7",
        "cellView": "form"
      },
      "source": [
        "#@title 开始排序\n",
        "target = \"src\" #@param [\"src\",\"dst\"]\n",
        "\n",
        "if target==\"src\":\n",
        "  #Src排序，可以通过谷歌云盘查看结果，删除不良图片\n",
        "  cmd = \"main.py sort --input-dir ../workspace/data_src/aligned\"\n",
        "  \n",
        "else:\n",
        "  cmd = \"main.py sort --input-dir ../workspace/data_dst/aligned \"\n",
        "\n",
        "!python $cmd"
      ],
      "execution_count": null,
      "outputs": []
    },
    {
      "cell_type": "markdown",
      "metadata": {
        "id": "QxO1kNO_uRTF"
      },
      "source": [
        "# 第四步. 训练模型\n",
        "\n",
        "\n",
        "*  支持SAEHD,Quick96等模型，根据自己的情况选择模型。\n",
        "*  第一次需要配置模型参数，不懂的直接回车默认。\n",
        "*  不想训练了可以点击停止，停止时会抛出异常，但是没什么关系。下次可以继续训练"
      ]
    },
    {
      "cell_type": "code",
      "metadata": {
        "id": "MKQbOrIiyFJL",
        "cellView": "form",
        "colab": {
          "base_uri": "https://localhost:8080/"
        },
        "outputId": "9cb51885-0334-44e1-ce2b-17c6fceac198"
      },
      "source": [
        "#@title 开始训练\n",
        "Model = \"SAEHD\" #@param [\"SAEHD\",\"Quick96\"]\n",
        "\n",
        "%cd \"/content/drive/My Drive/DeepFaceLab/DeepFaceLab_Colab/\"\n",
        "cmd = \"main.py train --training-data-src-dir ../workspace/data_src/aligned --training-data-dst-dir ../workspace/data_dst/aligned --model-dir ../workspace/model --model \"+Model+\" --no-preview\"\n",
        "!python $cmd"
      ],
      "execution_count": null,
      "outputs": [
        {
          "output_type": "stream",
          "text": [
            "/content/drive/My Drive/DeepFaceLab/DeepFaceLab_Colab\n",
            "Running trainer.\n",
            "\n",
            "Choose one of saved models, or enter a name to create a new model.\n",
            "[r] : rename\n",
            "[d] : delete\n",
            "\n",
            "[0] : DF 192 f - latest\n",
            " : \n",
            "0\n",
            "Loading DF 192 f_SAEHD model...\n",
            "\n",
            "Choose one or several GPU idxs (separated by comma).\n",
            "\n",
            "[CPU] : CPU\n",
            "  [0] : Tesla P100-PCIE-16GB\n",
            "\n",
            "[0] Which GPU indexes to choose? : \n",
            "0\n",
            "\n",
            "Initializing models: 100% 5/5 [00:03<00:00,  1.34it/s]\n",
            "Loaded 2284 packed faces from /content/drive/My Drive/DeepFaceLab/workspace/data_src/aligned\n",
            "Loaded 892 packed faces from /content/drive/My Drive/DeepFaceLab/workspace/data_dst/aligned\n",
            "================= Model Summary =================\n",
            "==                                             ==\n",
            "==            Model name: DF 192 f_SAEHD       ==\n",
            "==                                             ==\n",
            "==     Current iteration: 497201               ==\n",
            "==                                             ==\n",
            "==--------------- Model Options ---------------==\n",
            "==                                             ==\n",
            "==            resolution: 192                  ==\n",
            "==             face_type: f                    ==\n",
            "==     models_opt_on_gpu: True                 ==\n",
            "==                 archi: df                   ==\n",
            "==               ae_dims: 384                  ==\n",
            "==                e_dims: 92                   ==\n",
            "==                d_dims: 72                   ==\n",
            "==           d_mask_dims: 22                   ==\n",
            "==       masked_training: True                 ==\n",
            "==             eyes_prio: False                ==\n",
            "==           uniform_yaw: False                ==\n",
            "==            lr_dropout: n                    ==\n",
            "==           random_warp: True                 ==\n",
            "==             gan_power: 0.0                  ==\n",
            "==       true_face_power: 0.0                  ==\n",
            "==      face_style_power: 0.0                  ==\n",
            "==        bg_style_power: 0.0                  ==\n",
            "==               ct_mode: none                 ==\n",
            "==              clipgrad: False                ==\n",
            "==              pretrain: False                ==\n",
            "==       autobackup_hour: 0                    ==\n",
            "== write_preview_history: False                ==\n",
            "==           target_iter: 0                    ==\n",
            "==           random_flip: True                 ==\n",
            "==            batch_size: 8                    ==\n",
            "==                  模型训练: 五彩艺术                 ==\n",
            "==                  严禁转卖: 违者必究                 ==\n",
            "==                 QQ交流群: 114825055            ==\n",
            "==                                             ==\n",
            "==---------------- Running On -----------------==\n",
            "==                                             ==\n",
            "==          Device index: 0                    ==\n",
            "==                  Name: Tesla P100-PCIE-16GB ==\n",
            "==                  VRAM: 15.90GB              ==\n",
            "==                                             ==\n",
            "=================================================\n",
            "Starting. Press \"Enter\" to stop training and save model.\n",
            "[05:02:41][#498202][0822ms][0.1325][0.4210]\n",
            "[05:17:41][#499211][0811ms][0.1314][0.2953]\n",
            "[05:32:41][#500219][0816ms][0.1306][0.2590]\n",
            "[05:47:40][#501227][0814ms][0.1308][0.2396]\n",
            "[06:02:40][#502236][0822ms][0.1303][0.2251]\n",
            "[06:17:41][#503245][0812ms][0.1307][0.2154]\n",
            "[06:32:41][#504254][0825ms][0.1297][0.2062]\n",
            "[06:47:40][#505264][0816ms][0.1304][0.1984]\n",
            "[07:02:41][#506273][1579ms][0.1302][0.1938]\n",
            "[07:13:38][#507012][0810ms][0.1415][0.1801]"
          ],
          "name": "stdout"
        }
      ]
    },
    {
      "cell_type": "markdown",
      "metadata": {
        "id": "oVfZpBR00gBG"
      },
      "source": [
        "**模型预览方法请参考：**\n",
        "https://www.wxp123.me/p/329\n",
        "\n",
        "简单描述：左侧->文件->/driver/..../model/ *preview*.jpg->双击  \n",
        "  \n",
        "这种方法比在脚本中预览和在网盘预览都要方便，并且无需启动预览配置！"
      ]
    },
    {
      "cell_type": "markdown",
      "metadata": {
        "id": "m2Ba96cVuS0K"
      },
      "source": [
        "# 第五步. 转换输出\n",
        "\n",
        "训练模型的时候选了什么，这里就选什么  \n",
        "比如训练H128,这里就选H128\n"
      ]
    },
    {
      "cell_type": "code",
      "metadata": {
        "id": "G_oEgeU7I9jt",
        "cellView": "form"
      },
      "source": [
        "#@title 开始转换图片\n",
        "\n",
        "Model = \"SAEHD\" #@param [\"SAEHD\", \"Quick96\"]\n",
        "%cd \"/content/drive/My Drive/DeepFaceLab/DeepFaceLab_Colab/\"\n",
        "cmd = \" main.py merge --output-mask-dir ../workspace/data_dst/merged_mask --input-dir ../workspace/data_dst --output-dir ../workspace/data_dst/merged --aligned-dir ../workspace/data_dst/aligned --model-dir ../workspace/model --model \" + Model\n",
        "!python $cmd"
      ],
      "execution_count": null,
      "outputs": []
    },
    {
      "cell_type": "code",
      "metadata": {
        "id": "fbxfQ8UbJrqk",
        "cellView": "form"
      },
      "source": [
        "#@title 开始图片转视频\n",
        "!python main.py videoed video-from-sequence --input-dir ../workspace/data_dst/merged --output-file ../workspace/result.mp4 --reference-file ../workspace/data_dst.mp4 --include-audio\n",
        "!python main.py videoed video-from-sequence --input-dir ../workspace/data_dst/merged_mask --output-file ../workspace/result_mask.mp4 --reference-file ../workspace/data_dst.mp4 --include-audio --lossless"
      ],
      "execution_count": null,
      "outputs": []
    },
    {
      "cell_type": "markdown",
      "metadata": {
        "id": "cVfp8xbY5ykL"
      },
      "source": [
        "#第六步. 继续训练\n",
        "当你第二次开始训练，或者掉线之后继续训练时并不需要执行上面所有的步骤。只需要下面简单的几个步骤。\n",
        "1. 挂载云盘\n",
        "2. 安装依赖\n",
        "3. 开始训练  \n"
      ]
    },
    {
      "cell_type": "code",
      "metadata": {
        "id": "veL_8afb6WcP",
        "cellView": "form",
        "colab": {
          "base_uri": "https://localhost:8080/"
        },
        "outputId": "156b0fe0-a3bf-4042-dfc0-89f4e172f3fc"
      },
      "source": [
        "#@title 一键运行\n",
        "#挂载谷歌云盘\n",
        "#点击链接授权，复制授权码，填入框框，然后回车。\n",
        "\n",
        "Model = \"SAEHD\" #@param [\"SAEHD\" , \"Quick96\"]\n",
        "\n",
        "\n",
        "from google.colab import drive\n",
        "drive.mount('/content/drive', force_remount=True)\n",
        "\n",
        "\n",
        "# 进入DeepFaceLab_Colab目录\n",
        "%cd /content/drive/My Drive/DeepFaceLab/DeepFaceLab_Colab\n",
        "\n",
        "# 安装Python依赖\n",
        "!pip uninstall -y tensorflow\n",
        "!pip install -r requirements-colab.txt\n",
        "!pip install --upgrade scikit-image\n",
        "!sudo apt-get install cuda-10-0\n",
        "\n",
        "# 开始训练SAE ，如果是其他模型，修改后面的参数即可，比如H128。\n",
        "cmd = \"main.py train --training-data-src-dir ../workspace/data_src/aligned --training-data-dst-dir ../workspace/data_dst/aligned --model-dir ../workspace/model --model \"+Model+\" --no-preview\"\n",
        "!python $cmd "
      ],
      "execution_count": null,
      "outputs": [
        {
          "output_type": "stream",
          "text": [
            "Done.\n"
          ],
          "name": "stdout"
        }
      ]
    },
    {
      "cell_type": "markdown",
      "metadata": {
        "id": "siaPGJ1QVacj"
      },
      "source": [
        "# 工具\n"
      ]
    },
    {
      "cell_type": "markdown",
      "metadata": {
        "id": "WGLTllAHYAPJ"
      },
      "source": [
        "\n",
        "打包素材。可以加快上传，下载，加载的速度。"
      ]
    },
    {
      "cell_type": "code",
      "metadata": {
        "id": "fphcCxuh9Qfw",
        "colab": {
          "base_uri": "https://localhost:8080/"
        },
        "outputId": "9f071e85-23ec-4720-95c4-a67a4f3c9944"
      },
      "source": [
        "#@title 素材打包\n",
        "\n",
        "target = \"dst\" #@param [\"src\",\"dst\"]\n",
        "%cd /content/drive/My Drive/DeepFaceLab/DeepFaceLab_Colab\n",
        "if target==\"src\":\n",
        "  !python main.py util --input-dir ../workspace/data_src/aligned  --pack-faceset\n",
        "else:\n",
        "  !python main.py util --input-dir ../workspace/data_dst/aligned  --pack-faceset\n",
        " \n",
        "  "
      ],
      "execution_count": null,
      "outputs": [
        {
          "output_type": "stream",
          "text": [
            "/content/drive/My Drive/DeepFaceLab/DeepFaceLab_Colab\n",
            "Performing faceset packing...\n",
            "\n",
            "Loading samples: 100% 1157/1157 [00:05<00:00, 199.21it/s]\n",
            "Processing: 100% 1157/1157 [00:00<00:00, 15040.85it/s]\n",
            "Packing: 100% 1157/1157 [00:01<00:00, 1076.51it/s]\n",
            "Deleting files: 100% 1157/1157 [00:02<00:00, 564.52it/s]\n",
            "Done.\n"
          ],
          "name": "stdout"
        }
      ]
    },
    {
      "cell_type": "code",
      "metadata": {
        "id": "bC2CyDDx6siX",
        "cellView": "form",
        "colab": {
          "base_uri": "https://localhost:8080/"
        },
        "outputId": "76595fe1-5fe8-4003-ea7e-f81b35d38a74"
      },
      "source": [
        "#@title 素材解包\n",
        "\n",
        "target = \"dst\" #@param [\"src\",\"dst\"]\n",
        "%cd /content/drive/My Drive/DeepFaceLab/DeepFaceLab_Colab\n",
        "if target==\"src\":\n",
        "  !python main.py util --input-dir ../workspace/data_src/aligned --unpack-faceset\n",
        "else:\n",
        "  !python main.py util --input-dir ../workspace/data_dst/aligned --unpack-faceset\n",
        " \n",
        "  "
      ],
      "execution_count": null,
      "outputs": [
        {
          "output_type": "stream",
          "text": [
            "/content/drive/My Drive/DeepFaceLab/DeepFaceLab_Colab\n",
            "Performing faceset unpacking...\n",
            "\n",
            "Unpacking: 100% 1172/1172 [00:06<00:00, 174.66it/s]\n",
            "Done.\n"
          ],
          "name": "stdout"
        }
      ]
    },
    {
      "cell_type": "code",
      "metadata": {
        "id": "NYDWkORS6xum",
        "cellView": "form"
      },
      "source": [
        "#@title 素材增强\n",
        "\n",
        "target = \"src\" #@param [\"src\"]\n",
        "%cd /content/drive/My Drive/DeepFaceLab/DeepFaceLab_Colab\n",
        "if target==\"src\":\n",
        "  !python main.py facesettool enhance --input-dir ../workspace/data_src/aligned\n",
        "else:\n",
        "  !python main.py facesettool enhance --input-dir ../workspace/data_dst/aligned\n",
        " \n",
        "  "
      ],
      "execution_count": null,
      "outputs": []
    },
    {
      "cell_type": "markdown",
      "metadata": {
        "id": "5H85SsIW1PI3"
      },
      "source": [
        "# 其他\n",
        "\n",
        "  QQ群：659480116  \n",
        "    \n",
        " 谷歌云地址：https://drive.google.com/drive/my-drive\n",
        "\n",
        " 作者邮箱 ：wpgdream@gmail.com\n",
        " \n",
        " 使用教程：https://www.wxp123.me\n",
        " \n",
        " \n",
        "不求别的，只求在github给个小星星^_^\n",
        "\n",
        "https://github.com/dream80/DeepFaceLab_Colab\n",
        "\n",
        "右上角star 谢谢!!!  \n",
        "  \n"
      ]
    }
  ]
}